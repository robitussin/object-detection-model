{
  "cells": [
    {
      "cell_type": "markdown",
      "id": "SjWNWZH3ti-A",
      "metadata": {
        "id": "SjWNWZH3ti-A"
      },
      "source": [
        "## Install ultralytics library"
      ]
    },
    {
      "cell_type": "code",
      "execution_count": null,
      "id": "vkHi9d_2zt89",
      "metadata": {
        "colab": {
          "base_uri": "https://localhost:8080/",
          "height": 1000
        },
        "id": "vkHi9d_2zt89",
        "outputId": "adcb71e5-df1a-412b-b780-66ecefcbed3e"
      },
      "outputs": [],
      "source": [
        "pip install ultralytics"
      ]
    },
    {
      "cell_type": "markdown",
      "id": "W4KF5ELZ2D_h",
      "metadata": {
        "id": "W4KF5ELZ2D_h"
      },
      "source": [
        "## Import Libraries"
      ]
    },
    {
      "cell_type": "code",
      "execution_count": null,
      "id": "91c4d8cb",
      "metadata": {
        "id": "91c4d8cb"
      },
      "outputs": [],
      "source": [
        "import os\n",
        "import numpy as np\n",
        "import os\n",
        "import numpy as np\n",
        "import tensorflow as tf\n",
        "from tensorflow.keras.utils import to_categorical\n",
        "from tensorflow.keras import layers, models\n",
        "from tensorflow.keras.preprocessing import image\n",
        "from sklearn.model_selection import train_test_split\n",
        "from PIL import Image  # PIL is used to load the image\n",
        "import matplotlib.pyplot as plt\n",
        "import cv2\n",
        "\n",
        "\n",
        "from ultralytics import YOLO\n",
        "from pathlib import Path"
      ]
    },
    {
      "cell_type": "markdown",
      "id": "BbP9rY5Ptl7r",
      "metadata": {
        "id": "BbP9rY5Ptl7r"
      },
      "source": [
        "## Mount Google Drive"
      ]
    },
    {
      "cell_type": "code",
      "execution_count": null,
      "id": "pScU5b0vq4os",
      "metadata": {
        "colab": {
          "base_uri": "https://localhost:8080/"
        },
        "id": "pScU5b0vq4os",
        "outputId": "d25955ad-3cae-4df1-8ec5-1e2dc3dd1ca3"
      },
      "outputs": [],
      "source": [
        "from google.colab import drive\n",
        "drive.mount('/content/drive')"
      ]
    },
    {
      "cell_type": "markdown",
      "id": "xgoIIzu3tod8",
      "metadata": {
        "id": "xgoIIzu3tod8"
      },
      "source": [
        "## Display an image to test if the mount is successful"
      ]
    },
    {
      "cell_type": "code",
      "execution_count": null,
      "id": "Ydec1mmn0Qq6",
      "metadata": {
        "id": "Ydec1mmn0Qq6"
      },
      "outputs": [],
      "source": [
        "dataset_path = \"/content/drive/MyDrive/datasets/catsanddogs\"\n",
        "image_dir = os.path.join(dataset_path, \"images\")\n",
        "# label_dir = os.path.join(dataset_path, \"labels\")"
      ]
    },
    {
      "cell_type": "code",
      "execution_count": null,
      "id": "N9j13-RNs7xe",
      "metadata": {
        "id": "N9j13-RNs7xe"
      },
      "outputs": [],
      "source": [
        "def displayImage(image_path):\n",
        "  # Path to your image file in Google Drive\n",
        "  image = Image.open(image_path)\n",
        "\n",
        "  # Display the image using matplotlib\n",
        "  plt.imshow(image)\n",
        "  plt.axis('off')  # Hide axes for cleaner display\n",
        "  plt.show()"
      ]
    },
    {
      "cell_type": "code",
      "execution_count": null,
      "id": "V6uO9mOls9sB",
      "metadata": {
        "colab": {
          "base_uri": "https://localhost:8080/",
          "height": 406
        },
        "id": "V6uO9mOls9sB",
        "outputId": "6a97d1f2-5886-43e7-9fde-501b1338782b"
      },
      "outputs": [],
      "source": [
        "displayImage('/content/drive/My Drive/datasets/catsanddogs/images/cat.0.jpg')"
      ]
    },
    {
      "cell_type": "markdown",
      "id": "ivGN6sQKtqeR",
      "metadata": {
        "id": "ivGN6sQKtqeR"
      },
      "source": [
        "## Check if GPU is used"
      ]
    },
    {
      "cell_type": "code",
      "execution_count": null,
      "id": "5196e4c5",
      "metadata": {
        "colab": {
          "base_uri": "https://localhost:8080/"
        },
        "id": "5196e4c5",
        "outputId": "a56f7524-1cb9-483b-a3fc-0e56ac65bb93"
      },
      "outputs": [],
      "source": [
        "# Check if TensorFlow can access the GPU\n",
        "physical_devices = tf.config.list_physical_devices('GPU')\n",
        "if physical_devices:\n",
        "    print(f\"TensorFlow is using GPU: {physical_devices[0]}\")\n",
        "else:\n",
        "    print(\"No GPU available.\")"
      ]
    },
    {
      "cell_type": "markdown",
      "id": "Vuvw39MEGDwb",
      "metadata": {
        "id": "Vuvw39MEGDwb"
      },
      "source": [
        "## Define the image size"
      ]
    },
    {
      "cell_type": "code",
      "execution_count": null,
      "id": "PtuabMZ_uXxY",
      "metadata": {
        "id": "PtuabMZ_uXxY"
      },
      "outputs": [],
      "source": [
        "SIZE = 640\n",
        "image_size = (SIZE, SIZE)"
      ]
    },
    {
      "cell_type": "markdown",
      "id": "fcafadd4",
      "metadata": {},
      "source": [
        "## Feed the images to YOLO"
      ]
    },
    {
      "cell_type": "code",
      "execution_count": null,
      "id": "3p_ZnvkWzc74",
      "metadata": {
        "colab": {
          "base_uri": "https://localhost:8080/"
        },
        "id": "3p_ZnvkWzc74",
        "outputId": "4bc8c1df-f13c-4c18-877b-ee16c72a46fa"
      },
      "outputs": [],
      "source": [
        "IMAGE_DIR = Path(image_dir) # Folder with your images\n",
        "label_dir = (\"labels\") # Where to save YOLO labels\n",
        "model_name = \"yolov8x.pt\"         # Try yolov8m.pt or yolov8x.pt for better accuracy\n",
        "\n",
        "# Load YOLO model\n",
        "model = YOLO(model_name)\n",
        "\n",
        "# Run inference\n",
        "results = model(source=str(IMAGE_DIR), save_txt=True, project=str(label_dir), name=\".\")\n"
      ]
    },
    {
      "cell_type": "markdown",
      "id": "726736f4",
      "metadata": {},
      "source": [
        "## Verify the if the bounding boxes generated by YOLO are correct for each image"
      ]
    },
    {
      "cell_type": "code",
      "execution_count": null,
      "id": "gH9dIx931YVL",
      "metadata": {
        "colab": {
          "base_uri": "https://localhost:8080/",
          "height": 1000
        },
        "id": "gH9dIx931YVL",
        "outputId": "759f02a8-dd0c-4029-d465-93eca3022694"
      },
      "outputs": [],
      "source": [
        "LABEL_DIR = 'labels/labels'\n",
        "IMG_SIZE = (640, 640)  # Resize if needed\n",
        "\n",
        "def load_and_display(image_filename):\n",
        "    image_path = os.path.join(IMAGE_DIR, image_filename)\n",
        "    label_path = os.path.join(LABEL_DIR, os.path.splitext(image_filename)[0] + \".txt\")\n",
        "\n",
        "    img = cv2.imread(image_path)\n",
        "    img = cv2.resize(img, IMG_SIZE)\n",
        "\n",
        "    imageHeight, imageWidth, _ = img.shape\n",
        "\n",
        "    # Draw boxes\n",
        "    if os.path.exists(label_path):\n",
        "        with open(label_path, 'r') as f:\n",
        "            for line in f:\n",
        "                parts = line.strip().split()\n",
        "                if len(parts) != 5:\n",
        "                    continue\n",
        "                class_id, x_center, y_center, width, height = map(float, parts)\n",
        "\n",
        "                # Convert from YOLO format to pixel coordinates\n",
        "                x_center *= imageWidth\n",
        "                y_center *= imageHeight\n",
        "                width *= imageWidth\n",
        "                height *= imageHeight\n",
        "\n",
        "                x_min = int(x_center - width / 2)\n",
        "                y_min = int(y_center - height / 2)\n",
        "                x_max = int(x_center + width / 2)\n",
        "                y_max = int(y_center + height / 2)\n",
        "\n",
        "                # Draw rectangle and class label\n",
        "                cv2.rectangle(img, (x_min, y_min), (x_max, y_max), (0, 255, 0), 2)\n",
        "                cv2.putText(img, f\"Class {int(class_id)}\", (x_min, y_min - 5),\n",
        "                            cv2.FONT_HERSHEY_SIMPLEX, 0.5, (0, 255, 0), 1)\n",
        "\n",
        "    # Convert BGR to RGB for matplotlib\n",
        "    img_rgb = cv2.cvtColor(img, cv2.COLOR_BGR2RGB)\n",
        "    plt.imshow(img_rgb)\n",
        "    plt.axis('off')\n",
        "    plt.title(image_filename)\n",
        "    plt.show()\n",
        "\n",
        "# Iterate through all images and display\n",
        "for image_file in os.listdir(IMAGE_DIR):\n",
        "    if image_file.lower().endswith(('.jpg', '.png', '.jpeg')):\n",
        "        load_and_display(image_file)\n"
      ]
    }
  ],
  "metadata": {
    "accelerator": "GPU",
    "colab": {
      "gpuType": "T4",
      "provenance": []
    },
    "kernelspec": {
      "display_name": "Python 3",
      "name": "python3"
    },
    "language_info": {
      "codemirror_mode": {
        "name": "ipython",
        "version": 3
      },
      "file_extension": ".py",
      "mimetype": "text/x-python",
      "name": "python",
      "nbconvert_exporter": "python",
      "pygments_lexer": "ipython3",
      "version": "3.11.11"
    }
  },
  "nbformat": 4,
  "nbformat_minor": 5
}
